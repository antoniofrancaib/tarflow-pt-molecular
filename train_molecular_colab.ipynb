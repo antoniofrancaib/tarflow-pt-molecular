{
  "cells": [
    {
      "cell_type": "markdown",
      "metadata": {},
      "source": [
        "# \ud83e\uddec Molecular Cross-Temperature Transport - Google Colab\n\n**A100 GPU Training**\n\nRun cells in order. Total time: ~1-2 hours for 500 epochs.\n\n\u26a0\ufe0f **Make sure A100 GPU is enabled:** Runtime \u2192 Change runtime type \u2192 A100 GPU\n\n---"
      ]
    },
    {
      "cell_type": "code",
      "execution_count": null,
      "metadata": {},
      "outputs": [],
      "source": [
        "# Cell 1: Check GPU\nimport torch\nprint(f'\ud83c\udfae GPU: {torch.cuda.is_available()}')\nif torch.cuda.is_available():\n    print(f'   Device: {torch.cuda.get_device_name(0)}')\n    print(f'   Memory: {torch.cuda.get_device_properties(0).total_memory / 1e9:.1f} GB')\n    print('\\n\u2705 Make sure it says A100!')"
      ]
    },
    {
      "cell_type": "code",
      "execution_count": null,
      "metadata": {},
      "outputs": [],
      "source": [
        "# Cell 2: Clone Repository\n!git clone https://github.com/antoniofrancaib/tarflow-pt-molecular.git\n%cd tarflow-pt-molecular\n!git pull\n!ls -lh datasets/AA/pt_AA.pt"
      ]
    },
    {
      "cell_type": "code",
      "execution_count": null,
      "metadata": {},
      "outputs": [],
      "source": [
        "# Cell 3: Install Miniforge\nimport os\n\nprint('\ud83d\udce6 Installing Miniforge23...')\n!wget -q https://github.com/conda-forge/miniforge/releases/download/23.11.0-0/Miniforge3-Linux-x86_64.sh\n!bash Miniforge3-Linux-x86_64.sh -b -p $HOME/miniforge3\n\nos.environ['PATH'] = f\"{os.environ['HOME']}/miniforge3/bin:\" + os.environ['PATH']\n\nprint('\ud83d\udce6 Installing OpenMM, MDTraj, PyYAML...')\n!$HOME/miniforge3/bin/mamba install -c conda-forge openmm openmmtools mdtraj pyyaml -y\n\n# Fix imports\n!sed -i 's/from simtk import openmm as mm/import openmm as mm/g' src/training/openmm_energy.py\n!sed -i 's/from simtk import unit/from openmm import unit/g' src/training/openmm_energy.py\n!sed -i 's/from simtk.openmm import app/from openmm import app/g' src/training/openmm_energy.py\n\nprint('\\n\u2705 Miniforge + OpenMM installed!')"
      ]
    },
    {
      "cell_type": "code",
      "execution_count": null,
      "metadata": {},
      "outputs": [],
      "source": [
        "# Cell 4: Install PyTorch + Dependencies\nprint('\ud83d\udce6 Installing PyTorch and dependencies...')\n!$HOME/miniforge3/bin/pip install torch matplotlib scipy scikit-learn tqdm nglview --quiet\n\nprint('\\n\u2705 All dependencies installed!')"
      ]
    },
    {
      "cell_type": "code",
      "execution_count": null,
      "metadata": {},
      "outputs": [],
      "source": [
        "# Cell 5: Fix Scheduler\nprint('\ud83d\udd27 Fixing scheduler parameter...')\n!sed -i 's/, verbose=True//g' src/training/molecular_pt_trainer.py\nprint('\u2705 Fixed!')"
      ]
    },
    {
      "cell_type": "code",
      "execution_count": null,
      "metadata": {},
      "outputs": [],
      "source": [
        "# Cell 6: Test OpenMM Energy\nprint('\ud83e\uddea Testing OpenMM...')\n\ntest_script = '''import os\nos.environ[\"MPLBACKEND\"] = \"Agg\"\nimport sys\nsys.path.insert(0, \".\")\nimport torch, openmm\nfrom src.training.openmm_energy import compute_potential_energy\n\ndata = torch.load(\"datasets/AA/pt_AA.pt\", weights_only=False)\ntest_coords = data[0, 0, :5, :]\nenergies = compute_potential_energy(test_coords)\n\nprint(f\"\u2705 Energy computation works!\")\nprint(f\"   Sample energies (kJ/mol): {[f'{e:.2f}' for e in energies.tolist()]}\")\nprint(f\"   Mean: {energies.mean():.2f} kJ/mol\")\n'''\n\nwith open('/tmp/test_openmm.py', 'w') as f:\n    f.write(test_script)\n\n!MPLBACKEND=Agg $HOME/miniforge3/bin/python /tmp/test_openmm.py"
      ]
    },
    {
      "cell_type": "code",
      "execution_count": null,
      "metadata": {},
      "outputs": [],
      "source": [
        "# Cell 7: Train on A100 (500 epochs, ~1-2 hours)\nprint('\ud83d\ude80 Training on A100 GPU (500 epochs)')\nprint('\u23f1\ufe0f  Time: ~1-2 hours')\nprint('\ud83d\udcb0 Compute units: ~15-20 (15-20% of quota)\\n')\n\n!MPLBACKEND=Agg $HOME/miniforge3/bin/python main.py train-molecular \\\n    --preset aa_300_450 \\\n    --epochs 500 \\\n    --lr 5e-4 \\\n    --batch-size 32 \\\n    --validate\n\nprint('\\n\u2705 Training complete!')"
      ]
    },
    {
      "cell_type": "code",
      "execution_count": null,
      "metadata": {},
      "outputs": [],
      "source": [
        "# Cell 8: Display Results\nfrom IPython.display import Image, display\nimport os\n\nprint('\ud83d\udcca Results:\\n')\n\nloss_path = 'checkpoints/molecular_pt_aa_300_450/loss_curves_300_450.png'\nif os.path.exists(loss_path):\n    print('\ud83d\udcc8 Loss Curves:')\n    display(Image(loss_path, width=800))\n\nrama_path = 'plots/molecular_pt_aa_300_450/ramachandran_300_450.png'\nif os.path.exists(rama_path):\n    print('\\n\ud83e\uddec Ramachandran:')\n    display(Image(rama_path, width=900))\n\nenergy_path = 'plots/molecular_pt_aa_300_450/energy_validation_300_450.png'\nif os.path.exists(energy_path):\n    print('\\n\u26a1 Energy:')\n    display(Image(energy_path, width=800))"
      ]
    },
    {
      "cell_type": "code",
      "execution_count": null,
      "metadata": {},
      "outputs": [],
      "source": [
        "# Cell 9: Download Results\n!zip -r molecular_pt_results.zip checkpoints/molecular_pt_aa_300_450 plots/molecular_pt_aa_300_450 -q\n\nfrom google.colab import files\nfiles.download('molecular_pt_results.zip')\n\nprint('\u2705 Download complete!')"
      ]
    }
  ],
  "metadata": {
    "kernelspec": {
      "display_name": "Python 3",
      "language": "python",
      "name": "python3"
    },
    "language_info": {
      "name": "python",
      "version": "3.10.0"
    },
    "accelerator": "GPU"
  },
  "nbformat": 4,
  "nbformat_minor": 4
}