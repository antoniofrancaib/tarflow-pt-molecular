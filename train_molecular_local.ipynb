{
  "cells": [
    {
      "cell_type": "markdown",
      "metadata": {},
      "source": [
        "# \ud83e\uddec Molecular Cross-Temperature Transport Training\n\n**Local Mac Training - Memory Efficient**\n\nRun cells sequentially. Estimated time: 2-4 hours for 500 epochs on CPU.\n\n---"
      ]
    },
    {
      "cell_type": "code",
      "execution_count": null,
      "metadata": {},
      "outputs": [],
      "source": [
        "# Cell 1: Check Environment\nimport sys, torch, platform\n\nprint(f'Python: {sys.version}')\nprint(f'PyTorch: {torch.__version__}')\nprint(f'Platform: {platform.system()} {platform.machine()}')\n\ntry:\n    import openmm, mdtraj\n    print(f'\u2705 OpenMM: {openmm.version.short_version}')\n    print(f'\u2705 MDTraj: {mdtraj.__version__}')\nexcept ImportError as e:\n    print(f'\u274c Missing: {e}')\n    print('Run: conda install -c conda-forge openmm openmmtools mdtraj')"
      ]
    },
    {
      "cell_type": "code",
      "execution_count": null,
      "metadata": {},
      "outputs": [],
      "source": [
        "# Cell 2: Set Backend & Imports\nimport os\nos.environ['MPLBACKEND'] = 'Agg'\n\nimport yaml\nimport numpy as np\nfrom pathlib import Path\n\nsys.path.insert(0, str(Path.cwd()))\n\nfrom src.distributions.molecular_pt import MolecularPTDataset\nfrom src.models.scalable_transformer_flow import ScalableTransformerFlow  \nfrom src.training.molecular_pt_trainer import MolecularPTTrainer\nfrom src.training.molecular_validation import MolecularValidator\n\nprint('\u2705 All modules loaded')"
      ]
    },
    {
      "cell_type": "code",
      "execution_count": null,
      "metadata": {},
      "outputs": [],
      "source": [
        "# Cell 3: Configuration (ADJUST EPOCHS HERE)\nwith open('configs/experiments.yaml', 'r') as f:\n    config_data = yaml.safe_load(f)\n\nconfig = config_data['molecular_pt']['aa_300_450']\n\n# Override for local Mac training\nconfig['training']['epochs'] = 100  # \u2b05\ufe0f CHANGE THIS (100 for testing, 500 for production)\nconfig['training']['batch_size'] = 16  # Small batch for Mac memory\nconfig['training']['eval_interval'] = 25\n\nprint(f'\ud83d\udccb Config:')\nprint(f'  Epochs: {config[\"training\"][\"epochs\"]}')\nprint(f'  Batch: {config[\"training\"][\"batch_size\"]}')\nprint(f'  LR: {config[\"training\"][\"learning_rate\"]}')"
      ]
    },
    {
      "cell_type": "code",
      "execution_count": null,
      "metadata": {},
      "outputs": [],
      "source": [
        "# Cell 4: Create Dataset\ndataset = MolecularPTDataset(\n    data_path='datasets/AA/pt_AA.pt',\n    source_temp_idx=0,  # 300K\n    target_temp_idx=1,  # 450K\n    normalize=True,\n    normalize_mode='per_atom'\n)\n\nprint(f'\u2705 Dataset: {dataset.source_temp}K \u2192 {dataset.target_temp}K')\nprint(f'   Samples: {len(dataset)}')"
      ]
    },
    {
      "cell_type": "code",
      "execution_count": null,
      "metadata": {},
      "outputs": [],
      "source": [
        "# Cell 5: Create Model\ndevice = 'cpu'  # Force CPU for Mac stability\n\nmodel = ScalableTransformerFlow(\n    input_dim=69,\n    num_flow_layers=8,\n    embed_dim=192,\n    num_heads=8,\n    num_transformer_layers=5,\n    dropout=0.1\n).to(device)\n\nnum_params = sum(p.numel() for p in model.parameters())\nprint(f'\u2705 Model: {num_params:,} parameters (~{num_params*4/1e6:.1f} MB)')"
      ]
    },
    {
      "cell_type": "code",
      "execution_count": null,
      "metadata": {},
      "outputs": [],
      "source": [
        "# Cell 6: Create Trainer\ntrainer = MolecularPTTrainer(\n    model=model,\n    dataset=dataset,\n    device=device,\n    use_energy=True  # OpenMM energy evaluation\n)\n\nprint('\u2705 Trainer initialized')"
      ]
    },
    {
      "cell_type": "code",
      "execution_count": null,
      "metadata": {},
      "outputs": [],
      "source": [
        "# Cell 7: TRAIN (\u26a0\ufe0f Takes 20 min - 4 hours depending on epochs)\nprint(f'\ud83d\ude80 Training for {config[\"training\"][\"epochs\"]} epochs...')\nprint('\u23f1\ufe0f  Estimated time:')\nprint(f'   100 epochs: ~20-40 min')\nprint(f'   500 epochs: ~2-4 hours\\n')\n\nos.makedirs('checkpoints/molecular_pt_aa_300_450', exist_ok=True)\n\ntry:\n    trained_model, history = trainer.train(\n        config,\n        save_dir='checkpoints/molecular_pt_aa_300_450'\n    )\n    print('\\n\u2705 Training completed!')\n    print(f'   Final loss: {history[-1][\"total_loss\"]:.4f}')\nexcept KeyboardInterrupt:\n    print('\\n\u26a0\ufe0f Training interrupted (model saved)')\nexcept Exception as e:\n    print(f'\\n\u274c Error: {e}')"
      ]
    },
    {
      "cell_type": "code",
      "execution_count": null,
      "metadata": {},
      "outputs": [],
      "source": [
        "# Cell 8: Validation\nprint('\ud83d\udd2c Running validation...\\n')\n\nvalidator = MolecularValidator(\n    model=trained_model,\n    dataset=dataset,\n    pdb_path='datasets/AA/ref.pdb',\n    device=device\n)\n\nmetrics = validator.full_validation(\n    num_samples=1000,  # Smaller for speed on Mac\n    save_dir='plots/molecular_pt_aa_300_450'\n)\n\nprint('\\n\u2705 Validation complete!')"
      ]
    },
    {
      "cell_type": "code",
      "execution_count": null,
      "metadata": {},
      "outputs": [],
      "source": [
        "# Cell 9: View Results\nfrom IPython.display import Image, display\n\nprint('\ud83d\udcca Results:\\n')\n\n# Loss curves\nloss_path = 'checkpoints/molecular_pt_aa_300_450/loss_curves_300_450.png'\nif os.path.exists(loss_path):\n    print('\ud83d\udcc8 Loss Curves:')\n    display(Image(loss_path))\n\n# Ramachandran\nrama_path = 'plots/molecular_pt_aa_300_450/ramachandran_300_450.png'\nif os.path.exists(rama_path):\n    print('\\n\ud83e\uddec Ramachandran:')\n    display(Image(rama_path))\n\n# Energy  \nenergy_path = 'plots/molecular_pt_aa_300_450/energy_validation_300_450.png'\nif os.path.exists(energy_path):\n    print('\\n\u26a1 Energy:')\n    display(Image(energy_path))"
      ]
    },
    {
      "cell_type": "markdown",
      "metadata": {},
      "source": [
        "## \ud83d\udccb Summary\n\n**Files Generated:**\n- Model: `checkpoints/molecular_pt_aa_300_450/molecular_pt_300_450.pt`\n- Loss curves: `checkpoints/molecular_pt_aa_300_450/loss_curves_300_450.png`\n- Ramachandran: `plots/molecular_pt_aa_300_450/ramachandran_300_450.png`\n- Energy validation: `plots/molecular_pt_aa_300_450/energy_validation_300_450.png`\n\n**To run full training:** Edit Cell 3, set `epochs = 500`, then run all cells."
      ]
    }
  ],
  "metadata": {
    "kernelspec": {
      "display_name": "Python 3",
      "language": "python",
      "name": "python3"
    },
    "language_info": {
      "name": "python",
      "version": "3.10.0"
    }
  },
  "nbformat": 4,
  "nbformat_minor": 4
}