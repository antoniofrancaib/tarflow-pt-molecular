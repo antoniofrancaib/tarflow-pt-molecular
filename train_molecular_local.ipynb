{
  "cells": [
    {
      "cell_type": "markdown",
      "metadata": {},
      "source": [
        "# 🧬 Molecular Cross-Temperature Transport Training\n",
        "\n",
        "**Local Mac Training - Memory Efficient**\n",
        "\n",
        "Run cells sequentially. Estimated time: 2-4 hours for 500 epochs on CPU.\n",
        "\n",
        "---"
      ]
    },
    {
      "cell_type": "code",
      "execution_count": null,
      "metadata": {},
      "outputs": [],
      "source": [
        "# Cell 1: Check Environment\n",
        "import sys, torch, platform\n",
        "\n",
        "print(f'Python: {sys.version}')\n",
        "print(f'PyTorch: {torch.__version__}')\n",
        "print(f'Platform: {platform.system()} {platform.machine()}')\n",
        "\n",
        "try:\n",
        "    import openmm, mdtraj\n",
        "    print(f'✅ OpenMM: {openmm.version.short_version}')\n",
        "    print(f'✅ MDTraj: {mdtraj.__version__}')\n",
        "except ImportError as e:\n",
        "    print(f'❌ Missing: {e}')\n",
        "    print('Run: conda install -c conda-forge openmm openmmtools mdtraj')"
      ]
    },
    {
      "cell_type": "code",
      "execution_count": null,
      "metadata": {},
      "outputs": [],
      "source": [
        "# Cell 2: Set Backend & Imports\n",
        "import os\n",
        "os.environ['MPLBACKEND'] = 'Agg'\n",
        "\n",
        "import yaml\n",
        "import numpy as np\n",
        "from pathlib import Path\n",
        "\n",
        "sys.path.insert(0, str(Path.cwd()))\n",
        "\n",
        "from src.distributions.molecular_pt import MolecularPTDataset\n",
        "from src.models.scalable_transformer_flow import ScalableTransformerFlow  \n",
        "from src.training.molecular_pt_trainer import MolecularPTTrainer\n",
        "from src.training.molecular_validation import MolecularValidator\n",
        "\n",
        "print('✅ All modules loaded')"
      ]
    },
    {
      "cell_type": "code",
      "execution_count": null,
      "metadata": {},
      "outputs": [],
      "source": [
        "# Cell 3: Configuration (ADJUST EPOCHS HERE)\n",
        "with open('configs/experiments.yaml', 'r') as f:\n",
        "    config_data = yaml.safe_load(f)\n",
        "\n",
        "config = config_data['molecular_pt']['aa_300_450']\n",
        "\n",
        "# Override for local Mac training\n",
        "config['training']['epochs'] = 100  # ⬅️ CHANGE THIS (100 for testing, 500 for production)\n",
        "config['training']['batch_size'] = 16  # Small batch for Mac memory\n",
        "config['training']['eval_interval'] = 25\n",
        "\n",
        "print(f'📋 Config:')\n",
        "print(f'  Epochs: {config[\"training\"][\"epochs\"]}')\n",
        "print(f'  Batch: {config[\"training\"][\"batch_size\"]}')\n",
        "print(f'  LR: {config[\"training\"][\"learning_rate\"]}')"
      ]
    },
    {
      "cell_type": "code",
      "execution_count": null,
      "metadata": {},
      "outputs": [],
      "source": [
        "# Cell 4: Create Dataset\n",
        "dataset = MolecularPTDataset(\n",
        "    data_path='datasets/AA/pt_AA.pt',\n",
        "    source_temp_idx=0,  # 300K\n",
        "    target_temp_idx=1,  # 450K\n",
        "    normalize=True,\n",
        "    normalize_mode='per_atom'\n",
        ")\n",
        "\n",
        "print(f'✅ Dataset: {dataset.source_temp}K → {dataset.target_temp}K')\n",
        "print(f'   Samples: {len(dataset)}')"
      ]
    },
    {
      "cell_type": "code",
      "execution_count": null,
      "metadata": {},
      "outputs": [],
      "source": [
        "# Cell 5: Create Model\n",
        "device = 'cpu'  # Force CPU for Mac stability\n",
        "\n",
        "model = ScalableTransformerFlow(\n",
        "    input_dim=69,\n",
        "    num_flow_layers=8,\n",
        "    embed_dim=192,\n",
        "    num_heads=8,\n",
        "    num_transformer_layers=5,\n",
        "    dropout=0.1\n",
        ").to(device)\n",
        "\n",
        "num_params = sum(p.numel() for p in model.parameters())\n",
        "print(f'✅ Model: {num_params:,} parameters (~{num_params*4/1e6:.1f} MB)')"
      ]
    },
    {
      "cell_type": "code",
      "execution_count": null,
      "metadata": {},
      "outputs": [],
      "source": [
        "# Cell 6: Create Trainer\n",
        "trainer = MolecularPTTrainer(\n",
        "    model=model,\n",
        "    dataset=dataset,\n",
        "    device=device,\n",
        "    use_energy=True  # OpenMM energy evaluation\n",
        ")\n",
        "\n",
        "print('✅ Trainer initialized')"
      ]
    },
    {
      "cell_type": "code",
      "execution_count": null,
      "metadata": {},
      "outputs": [],
      "source": [
        "# Cell 7: TRAIN (⚠️ Takes 20 min - 4 hours depending on epochs)\n",
        "print(f'🚀 Training for {config[\"training\"][\"epochs\"]} epochs...')\n",
        "print('⏱️  Estimated time:')\n",
        "print(f'   100 epochs: ~20-40 min')\n",
        "print(f'   500 epochs: ~2-4 hours\\n')\n",
        "\n",
        "os.makedirs('checkpoints/molecular_pt_aa_300_450', exist_ok=True)\n",
        "\n",
        "try:\n",
        "    trained_model, history = trainer.train(\n",
        "        config,\n",
        "        save_dir='checkpoints/molecular_pt_aa_300_450'\n",
        "    )\n",
        "    print('\\n✅ Training completed!')\n",
        "    print(f'   Final loss: {history[-1][\"total_loss\"]:.4f}')\n",
        "except KeyboardInterrupt:\n",
        "    print('\\n⚠️ Training interrupted (model saved)')\n",
        "except Exception as e:\n",
        "    print(f'\\n❌ Error: {e}')"
      ]
    },
    {
      "cell_type": "code",
      "execution_count": null,
      "metadata": {},
      "outputs": [],
      "source": [
        "# Cell 8: Validation\n",
        "print('🔬 Running validation...\\n')\n",
        "\n",
        "validator = MolecularValidator(\n",
        "    model=trained_model,\n",
        "    dataset=dataset,\n",
        "    pdb_path='datasets/AA/ref.pdb',\n",
        "    device=device\n",
        ")\n",
        "\n",
        "metrics = validator.full_validation(\n",
        "    num_samples=1000,  # Smaller for speed on Mac\n",
        "    save_dir='plots/molecular_pt_aa_300_450'\n",
        ")\n",
        "\n",
        "print('\\n✅ Validation complete!')"
      ]
    },
    {
      "cell_type": "code",
      "execution_count": null,
      "metadata": {},
      "outputs": [],
      "source": [
        "# Cell 9: View Results\n",
        "from IPython.display import Image, display\n",
        "\n",
        "print('📊 Results:\\n')\n",
        "\n",
        "# Loss curves\n",
        "loss_path = 'checkpoints/molecular_pt_aa_300_450/loss_curves_300_450.png'\n",
        "if os.path.exists(loss_path):\n",
        "    print('📈 Loss Curves:')\n",
        "    display(Image(loss_path))\n",
        "\n",
        "# Ramachandran\n",
        "rama_path = 'plots/molecular_pt_aa_300_450/ramachandran_300_450.png'\n",
        "if os.path.exists(rama_path):\n",
        "    print('\\n🧬 Ramachandran:')\n",
        "    display(Image(rama_path))\n",
        "\n",
        "# Energy  \n",
        "energy_path = 'plots/molecular_pt_aa_300_450/energy_validation_300_450.png'\n",
        "if os.path.exists(energy_path):\n",
        "    print('\\n⚡ Energy:')\n",
        "    display(Image(energy_path))"
      ]
    },
    {
      "cell_type": "markdown",
      "metadata": {},
      "source": [
        "## 📋 Summary\n",
        "\n",
        "**Files Generated:**\n",
        "- Model: `checkpoints/molecular_pt_aa_300_450/molecular_pt_300_450.pt`\n",
        "- Loss curves: `checkpoints/molecular_pt_aa_300_450/loss_curves_300_450.png`\n",
        "- Ramachandran: `plots/molecular_pt_aa_300_450/ramachandran_300_450.png`\n",
        "- Energy validation: `plots/molecular_pt_aa_300_450/energy_validation_300_450.png`\n",
        "\n",
        "**To run full training:** Edit Cell 3, set `epochs = 500`, then run all cells."
      ]
    }
  ],
  "metadata": {
    "kernelspec": {
      "display_name": "Python 3",
      "language": "python",
      "name": "python3"
    },
    "language_info": {
      "name": "python",
      "version": "3.10.0"
    }
  },
  "nbformat": 4,
  "nbformat_minor": 4
}
